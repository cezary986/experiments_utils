{
 "cells": [
  {
   "cell_type": "code",
   "execution_count": 2,
   "metadata": {},
   "outputs": [],
   "source": [
    "import sys\n",
    "\n",
    "sys.path.append('../')"
   ]
  },
  {
   "cell_type": "code",
   "execution_count": 4,
   "metadata": {},
   "outputs": [
    {
     "name": "stderr",
     "output_type": "stream",
     "text": [
      "WARNING:root:Given tables directory: \".\" is not empty\n"
     ]
    },
    {
     "data": {
      "text/html": [
       "<div>\n",
       "<style scoped>\n",
       "    .dataframe tbody tr th:only-of-type {\n",
       "        vertical-align: middle;\n",
       "    }\n",
       "\n",
       "    .dataframe tbody tr th {\n",
       "        vertical-align: top;\n",
       "    }\n",
       "\n",
       "    .dataframe thead th {\n",
       "        text-align: right;\n",
       "    }\n",
       "</style>\n",
       "<table border=\"1\" class=\"dataframe\">\n",
       "  <thead>\n",
       "    <tr style=\"text-align: right;\">\n",
       "      <th></th>\n",
       "      <th>num</th>\n",
       "      <th>nom</th>\n",
       "      <th>num (std)</th>\n",
       "    </tr>\n",
       "  </thead>\n",
       "  <tbody>\n",
       "    <tr>\n",
       "      <th>0</th>\n",
       "      <td>4.5</td>\n",
       "      <td>b</td>\n",
       "      <td>3.02765</td>\n",
       "    </tr>\n",
       "  </tbody>\n",
       "</table>\n",
       "</div>"
      ],
      "text/plain": [
       "   num nom  num (std)\n",
       "0  4.5   b    3.02765"
      ]
     },
     "execution_count": 4,
     "metadata": {},
     "output_type": "execute_result"
    }
   ],
   "source": [
    "import pandas as pd\n",
    "from experiments_utils.results.tables import Tables, Table, concat_tables, mean_aggregate_tables\n",
    "\n",
    "Tables.configure('.')\n",
    "t1: Table = Tables.get('first_table')\n",
    "t2: Table = Tables.get('first_table')\n",
    "\n",
    "t1.set_df(pd.DataFrame({\n",
    "    'num': range(5),\n",
    "    'nom': ['a', 'b', 'c', 'd', 'e'],\n",
    "}))\n",
    "t2.set_df(pd.DataFrame({\n",
    "    'num': range(5, 10),\n",
    "    'nom': ['a', 'b', 'b', 'b', 'e'],\n",
    "}))\n",
    "\n",
    "t_agg: Table = Tables.get('agg_table')\n",
    "mean_aggregate_tables([t1, t2], t_agg, add_std_columns=True)\n",
    "\n",
    "t_agg.as_pandas()"
   ]
  },
  {
   "cell_type": "code",
   "execution_count": 3,
   "metadata": {},
   "outputs": [
    {
     "name": "stdout",
     "output_type": "stream",
     "text": [
      "Logs directory not configured, use default logs dir: \"c:\\Users\\cezar\\OneDrive\\Dokumenty\\projects\\experiments\\repo\\notebooks/logs/17.01.2025_10.58.05v1.0.0\"\n"
     ]
    },
    {
     "name": "stderr",
     "output_type": "stream",
     "text": [
      "DEBUG:test_experiment:Starting experiment \"test_experiment\" v1.0.0 (n_paramsets: 3)\n",
      "WARNING:test_experiment:Running from Interactive Interpreter which is not supporting multiprocessing, will use threading instead.\n"
     ]
    },
    {
     "name": "stdout",
     "output_type": "stream",
     "text": [
      "[INFO] 2025-01-17 10:58:05,510 Starting experiment for paramset: \"paramset2\"\n",
      "[INFO] 2025-01-17 10:58:05,510 Starting experiment for paramset: \"paramset2\"\n",
      "[INFO] 2025-01-17 10:58:05,510 Starting experiment for paramset: \"paramset3\"\n",
      "[INFO] 2025-01-17 10:58:05,510 Starting experiment for paramset: \"paramset2\"\n",
      "[INFO] 2025-01-17 10:58:05,510 Starting experiment for paramset: \"paramset3\"\n"
     ]
    },
    {
     "name": "stderr",
     "output_type": "stream",
     "text": [
      "INFO:test_experiment:Starting experiment for paramset: \"paramset2\"\n"
     ]
    },
    {
     "name": "stdout",
     "output_type": "stream",
     "text": [
      "[INFO] 2025-01-17 10:58:05,511 Starting experiment for paramset: \"paramset1\"\n",
      "[INFO] 2025-01-17 10:58:05,510 Starting experiment for paramset: \"paramset3\"\n",
      "[INFO] 2025-01-17 10:58:05,511 Starting experiment for paramset: \"paramset1\"\n"
     ]
    },
    {
     "name": "stderr",
     "output_type": "stream",
     "text": [
      "INFO:test_experiment:Starting experiment for paramset: \"paramset3\"\n"
     ]
    },
    {
     "name": "stdout",
     "output_type": "stream",
     "text": [
      "[INFO] 2025-01-17 10:58:05,511 Starting experiment for paramset: \"paramset1\"\n"
     ]
    },
    {
     "name": "stderr",
     "output_type": "stream",
     "text": [
      "INFO:test_experiment:Starting experiment for paramset: \"paramset1\"\n"
     ]
    },
    {
     "name": "stdout",
     "output_type": "stream",
     "text": [
      "[INFO] 2025-01-17 10:58:05,535 Finished experiment for paramset: \"paramset2\". Took: 0:00:00.001999\n",
      "[INFO] 2025-01-17 10:58:05,535 Finished experiment for paramset: \"paramset2\". Took: 0:00:00.001999\n",
      "[INFO] 2025-01-17 10:58:05,535 Finished experiment for paramset: \"paramset3\". Took: 0:00:00.001999\n",
      "[INFO] 2025-01-17 10:58:05,535 Finished experiment for paramset: \"paramset2\". Took: 0:00:00.001999\n",
      "[INFO] 2025-01-17 10:58:05,535 Finished experiment for paramset: \"paramset3\". Took: 0:00:00.001999\n",
      "[INFO] 2025-01-17 10:58:05,535 Finished experiment for paramset: \"paramset3\". Took: 0:00:00.001999\n"
     ]
    },
    {
     "name": "stderr",
     "output_type": "stream",
     "text": [
      "INFO:test_experiment:Finished experiment for paramset: \"paramset2\". Took: 0:00:00.001999\n",
      "INFO:test_experiment:Finished experiment for paramset: \"paramset3\". Took: 0:00:00.001999\n"
     ]
    },
    {
     "name": "stdout",
     "output_type": "stream",
     "text": [
      "[INFO] 2025-01-17 10:58:05,542 Finished experiment for paramset: \"paramset1\". Took: 0:00:00.002007\n",
      "[INFO] 2025-01-17 10:58:05,542 Finished experiment for paramset: \"paramset1\". Took: 0:00:00.002007\n",
      "[INFO] 2025-01-17 10:58:05,542 Finished experiment for paramset: \"paramset1\". Took: 0:00:00.002007\n"
     ]
    },
    {
     "name": "stderr",
     "output_type": "stream",
     "text": [
      "INFO:test_experiment:Finished experiment for paramset: \"paramset1\". Took: 0:00:00.002007\n"
     ]
    },
    {
     "name": "stdout",
     "output_type": "stream",
     "text": [
      "[INFO] 2025-01-17 10:58:05,551 Finished whole experiment \"test_experiment\". Took: 0:00:00.251635\n",
      "[INFO] 2025-01-17 10:58:05,551 Finished whole experiment \"test_experiment\". Took: 0:00:00.251635\n",
      "[INFO] 2025-01-17 10:58:05,551 Finished whole experiment \"test_experiment\". Took: 0:00:00.251635\n"
     ]
    },
    {
     "name": "stderr",
     "output_type": "stream",
     "text": [
      "INFO:test_experiment:Finished whole experiment \"test_experiment\". Took: 0:00:00.251635\n"
     ]
    }
   ],
   "source": [
    "import math\n",
    "from experiments_utils import experiment, Store\n",
    "\n",
    "@experiment(\n",
    "    name=\"test_experiment\",\n",
    "    version=\"1.0.0\",\n",
    ")\n",
    "def test_experiment(a: int, b: int) -> float:\n",
    "    s = Store()\n",
    "    s.tmp = a * 2\n",
    "    return s.tmp / b\n",
    "\n",
    "\n",
    "results: dict[str, float] = test_experiment.run(\n",
    "    [\n",
    "        (\"paramset1\", {\"a\": 5, 'b': 4}),\n",
    "        (\"paramset2\", {\"a\": 7, 'b': 7}),\n",
    "        (\"paramset3\", {\"a\": 10, 'b': 8}),\n",
    "    ]\n",
    ")"
   ]
  },
  {
   "cell_type": "code",
   "execution_count": 5,
   "metadata": {},
   "outputs": [
    {
     "name": "stdout",
     "output_type": "stream",
     "text": [
      "10\n"
     ]
    }
   ],
   "source": [
    "from experiments_utils.store import store_factory\n",
    "\n",
    "s: Store = store_factory(\n",
    "    experiment_name=test_experiment.name,\n",
    "    version=test_experiment.version,\n",
    "    current_dir='.',\n",
    "    paramset_name='paramset3'\n",
    ")\n",
    "\n",
    "# s.a = 0\n",
    "\n",
    "print(s.tmp)"
   ]
  }
 ],
 "metadata": {
  "kernelspec": {
   "display_name": "base",
   "language": "python",
   "name": "python3"
  },
  "language_info": {
   "codemirror_mode": {
    "name": "ipython",
    "version": 3
   },
   "file_extension": ".py",
   "mimetype": "text/x-python",
   "name": "python",
   "nbconvert_exporter": "python",
   "pygments_lexer": "ipython3",
   "version": "3.9.12"
  }
 },
 "nbformat": 4,
 "nbformat_minor": 2
}
